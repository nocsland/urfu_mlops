{
 "cells": [
  {
   "cell_type": "markdown",
   "source": [
    "## MLOps. Практическое задание №5"
   ],
   "metadata": {
    "collapsed": false
   },
   "id": "367fe67db0b8e29b"
  },
  {
   "cell_type": "code",
   "execution_count": 50,
   "id": "initial_id",
   "metadata": {
    "collapsed": true,
    "ExecuteTime": {
     "end_time": "2024-04-30T19:03:57.724313471Z",
     "start_time": "2024-04-30T19:03:57.683110031Z"
    }
   },
   "outputs": [
    {
     "name": "stdout",
     "output_type": "stream",
     "text": [
      "Writing test_recorded.py\n"
     ]
    }
   ],
   "source": [
    "%%writefile test_recorded.py\n",
    "\n",
    "import numpy as np\n",
    "from sklearn.linear_model import LinearRegression\n",
    "from sklearn.metrics import mean_squared_error\n",
    "\n",
    "# Функция для генерации данных\n",
    "def generate_data(n_samples, noise_factor=0.0):\n",
    "    X = np.random.rand(n_samples, 1) * 10\n",
    "    y = 2 * X.squeeze() + 3 + np.random.randn(n_samples) * noise_factor\n",
    "    return X, y\n",
    "\n",
    "\n",
    "# Функция для тестирования модели\n",
    "def check_model(X_test, y_test, model):\n",
    "    y_pred = model.predict(X_test)\n",
    "    return mean_squared_error(y_test, y_pred)\n",
    "\n",
    "\n",
    "# Функция для тестирования модели с выводом информации о датасете\n",
    "def test_model_performance():\n",
    "    # Создание модели линейной регрессии\n",
    "    model = LinearRegression()\n",
    "\n",
    "    # Генерация трех датасетов с качественными данными и шумового датасета\n",
    "    quality_datasets = [generate_data(100, noise_factor=0.5) for _ in range(3)]\n",
    "    noisy_dataset = generate_data(100, noise_factor=5)\n",
    "\n",
    "    # Обучение модели на одном из датасетов с качественными данными\n",
    "    model.fit(*quality_datasets[0])\n",
    "\n",
    "    # Вычисление максимального MSE на качественных данных\n",
    "    max_mse_quality = max(mean_squared_error(y, model.predict(X)) for X, y in quality_datasets)\n",
    "\n",
    "    # Функция для проверки MSE каждого датасета\n",
    "    def check_mse(X_test, y_test, dataset_name):\n",
    "        mse = check_model(X_test, y_test, model)\n",
    "        assert mse <= max_mse_quality, f\"Датасет {dataset_name} является шумовым: MSE: {mse}\"\n",
    "\n",
    "    # Проверяем MSE для каждого датасета\n",
    "    for idx, (X, y) in enumerate(quality_datasets, start=1):\n",
    "        check_mse(X, y, f\"датасет {idx}\")\n",
    "    check_mse(*noisy_dataset, \"датасет 4\")"
   ]
  },
  {
   "cell_type": "code",
   "execution_count": 51,
   "outputs": [
    {
     "name": "stdout",
     "output_type": "stream",
     "text": [
      "\u001B[1m============================= test session starts ==============================\u001B[0m\r\n",
      "platform linux -- Python 3.12.3, pytest-8.2.0, pluggy-1.5.0\r\n",
      "rootdir: /home/vaa/backup/IT/Python/PythonProjects/urfu_mlops/lab5\r\n",
      "plugins: hydra-core-1.3.2, nbmake-1.5.3, anyio-4.3.0\r\n",
      "collected 1 item                                                               \u001B[0m\r\n",
      "\r\n",
      "test_recorded.py \u001B[31mF\u001B[0m\u001B[31m                                                       [100%]\u001B[0m\r\n",
      "\r\n",
      "=================================== FAILURES ===================================\r\n",
      "\u001B[31m\u001B[1m____________________________ test_model_performance ____________________________\u001B[0m\r\n",
      "\r\n",
      "    \u001B[0m\u001B[94mdef\u001B[39;49;00m \u001B[92mtest_model_performance\u001B[39;49;00m():\u001B[90m\u001B[39;49;00m\r\n",
      "        \u001B[90m# Создание модели линейной регрессии\u001B[39;49;00m\u001B[90m\u001B[39;49;00m\r\n",
      "        model = LinearRegression()\u001B[90m\u001B[39;49;00m\r\n",
      "    \u001B[90m\u001B[39;49;00m\r\n",
      "        \u001B[90m# Генерация трех датасетов с качественными данными и шумового датасета\u001B[39;49;00m\u001B[90m\u001B[39;49;00m\r\n",
      "        quality_datasets = [generate_data(\u001B[94m100\u001B[39;49;00m, noise_factor=\u001B[94m0.5\u001B[39;49;00m) \u001B[94mfor\u001B[39;49;00m _ \u001B[95min\u001B[39;49;00m \u001B[96mrange\u001B[39;49;00m(\u001B[94m3\u001B[39;49;00m)]\u001B[90m\u001B[39;49;00m\r\n",
      "        noisy_dataset = generate_data(\u001B[94m100\u001B[39;49;00m, noise_factor=\u001B[94m5\u001B[39;49;00m)\u001B[90m\u001B[39;49;00m\r\n",
      "    \u001B[90m\u001B[39;49;00m\r\n",
      "        \u001B[90m# Обучение модели на одном из датасетов с качественными данными\u001B[39;49;00m\u001B[90m\u001B[39;49;00m\r\n",
      "        model.fit(*quality_datasets[\u001B[94m0\u001B[39;49;00m])\u001B[90m\u001B[39;49;00m\r\n",
      "    \u001B[90m\u001B[39;49;00m\r\n",
      "        \u001B[90m# Вычисление максимального MSE на качественных данных\u001B[39;49;00m\u001B[90m\u001B[39;49;00m\r\n",
      "        max_mse_quality = \u001B[96mmax\u001B[39;49;00m(mean_squared_error(y, model.predict(X)) \u001B[94mfor\u001B[39;49;00m X, y \u001B[95min\u001B[39;49;00m quality_datasets)\u001B[90m\u001B[39;49;00m\r\n",
      "    \u001B[90m\u001B[39;49;00m\r\n",
      "        \u001B[90m# Функция для проверки MSE каждого датасета\u001B[39;49;00m\u001B[90m\u001B[39;49;00m\r\n",
      "        \u001B[94mdef\u001B[39;49;00m \u001B[92mcheck_mse\u001B[39;49;00m(X_test, y_test, dataset_name):\u001B[90m\u001B[39;49;00m\r\n",
      "            mse = check_model(X_test, y_test, model)\u001B[90m\u001B[39;49;00m\r\n",
      "            \u001B[94massert\u001B[39;49;00m mse <= max_mse_quality, \u001B[33mf\u001B[39;49;00m\u001B[33m\"\u001B[39;49;00m\u001B[33mДатасет \u001B[39;49;00m\u001B[33m{\u001B[39;49;00mdataset_name\u001B[33m}\u001B[39;49;00m\u001B[33m является шумовым: MSE: \u001B[39;49;00m\u001B[33m{\u001B[39;49;00mmse\u001B[33m}\u001B[39;49;00m\u001B[33m\"\u001B[39;49;00m\u001B[90m\u001B[39;49;00m\r\n",
      "    \u001B[90m\u001B[39;49;00m\r\n",
      "        \u001B[90m# Проверяем MSE для каждого датасета\u001B[39;49;00m\u001B[90m\u001B[39;49;00m\r\n",
      "        \u001B[94mfor\u001B[39;49;00m idx, (X, y) \u001B[95min\u001B[39;49;00m \u001B[96menumerate\u001B[39;49;00m(quality_datasets, start=\u001B[94m1\u001B[39;49;00m):\u001B[90m\u001B[39;49;00m\r\n",
      "            check_mse(X, y, \u001B[33mf\u001B[39;49;00m\u001B[33m\"\u001B[39;49;00m\u001B[33mдатасет \u001B[39;49;00m\u001B[33m{\u001B[39;49;00midx\u001B[33m}\u001B[39;49;00m\u001B[33m\"\u001B[39;49;00m)\u001B[90m\u001B[39;49;00m\r\n",
      ">       check_mse(*noisy_dataset, \u001B[33m\"\u001B[39;49;00m\u001B[33mдатасет 4\u001B[39;49;00m\u001B[33m\"\u001B[39;49;00m)\u001B[90m\u001B[39;49;00m\r\n",
      "\r\n",
      "\u001B[1m\u001B[31mtest_recorded.py\u001B[0m:42: \r\n",
      "_ _ _ _ _ _ _ _ _ _ _ _ _ _ _ _ _ _ _ _ _ _ _ _ _ _ _ _ _ _ _ _ _ _ _ _ _ _ _ _ \r\n",
      "\r\n",
      "X_test = array([[8.60013789e+00],\r\n",
      "       [5.63856649e+00],\r\n",
      "       [2.38435920e-01],\r\n",
      "       [8.32752609e-03],\r\n",
      "       [4.63005319... [1.81225578e+00],\r\n",
      "       [2.26099532e+00],\r\n",
      "       [4.63008448e+00],\r\n",
      "       [1.01774928e+00],\r\n",
      "       [4.78329604e+00]])\r\n",
      "y_test = array([ 21.72519491,   6.69015837,  -2.31803681,  -0.13821347,\r\n",
      "        10.94630166,   1.23730077,  14.25869341,  31.22... -2.76599806,  18.83320208,   5.14777369,   0.65915027,\r\n",
      "        15.65647601,  10.20861157,   6.84813482,  17.13948412])\r\n",
      "dataset_name = 'датасет 4'\r\n",
      "\r\n",
      "    \u001B[0m\u001B[94mdef\u001B[39;49;00m \u001B[92mcheck_mse\u001B[39;49;00m(X_test, y_test, dataset_name):\u001B[90m\u001B[39;49;00m\r\n",
      "        mse = check_model(X_test, y_test, model)\u001B[90m\u001B[39;49;00m\r\n",
      ">       \u001B[94massert\u001B[39;49;00m mse <= max_mse_quality, \u001B[33mf\u001B[39;49;00m\u001B[33m\"\u001B[39;49;00m\u001B[33mДатасет \u001B[39;49;00m\u001B[33m{\u001B[39;49;00mdataset_name\u001B[33m}\u001B[39;49;00m\u001B[33m является шумовым: MSE: \u001B[39;49;00m\u001B[33m{\u001B[39;49;00mmse\u001B[33m}\u001B[39;49;00m\u001B[33m\"\u001B[39;49;00m\u001B[90m\u001B[39;49;00m\r\n",
      "\u001B[1m\u001B[31mE       AssertionError: Датасет датасет 4 является шумовым: MSE: 29.55485586565284\u001B[0m\r\n",
      "\u001B[1m\u001B[31mE       assert 29.55485586565284 <= 0.2878614739066738\u001B[0m\r\n",
      "\r\n",
      "\u001B[1m\u001B[31mtest_recorded.py\u001B[0m:37: AssertionError\r\n",
      "\u001B[36m\u001B[1m=========================== short test summary info ============================\u001B[0m\r\n",
      "\u001B[31mFAILED\u001B[0m test_recorded.py::\u001B[1mtest_model_performance\u001B[0m - AssertionError: Датасет датасет 4 является шумовым: MSE: 29.55485586565284\r\n",
      "\u001B[31m============================== \u001B[31m\u001B[1m1 failed\u001B[0m\u001B[31m in 0.44s\u001B[0m\u001B[31m ===============================\u001B[0m\r\n"
     ]
    }
   ],
   "source": [
    "# Запуск теста посредством pytest (сначала запустить предыдущую ячейку!)\n",
    "!pytest test_recorded.py"
   ],
   "metadata": {
    "collapsed": false,
    "ExecuteTime": {
     "end_time": "2024-04-30T19:03:58.722181212Z",
     "start_time": "2024-04-30T19:03:57.723771001Z"
    }
   },
   "id": "dd72afe7ade76c81"
  }
 ],
 "metadata": {
  "kernelspec": {
   "display_name": "Python 3",
   "language": "python",
   "name": "python3"
  },
  "language_info": {
   "codemirror_mode": {
    "name": "ipython",
    "version": 2
   },
   "file_extension": ".py",
   "mimetype": "text/x-python",
   "name": "python",
   "nbconvert_exporter": "python",
   "pygments_lexer": "ipython2",
   "version": "2.7.6"
  }
 },
 "nbformat": 4,
 "nbformat_minor": 5
}
